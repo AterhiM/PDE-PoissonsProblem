{
  "nbformat": 4,
  "nbformat_minor": 0,
  "metadata": {
    "colab": {
      "name": "Poissons_Prob_2ndMethod.ipynb",
      "provenance": []
    },
    "kernelspec": {
      "name": "python3",
      "display_name": "Python 3"
    },
    "language_info": {
      "name": "python"
    }
  },
  "cells": [
    {
      "cell_type": "markdown",
      "metadata": {
        "id": "sKadzgHvGf-O"
      },
      "source": [
        "# **PDE Simulation - Poisson's Problem (2nd Method)**"
      ]
    },
    {
      "cell_type": "markdown",
      "metadata": {
        "id": "1wG-7CbfPuwZ"
      },
      "source": [
        "## **Given Poisson's equation** \n",
        "\n",
        "Poisson's equation is given by:\n",
        "$$\\phi_{xx} + \\phi_{yy} = \\rho(x,y)$$\n",
        "\n",
        "We us finite difference method which approximates Poisson's equation:\n",
        "\n",
        "$$\\frac{\\phi_{i+1,j}-2\\phi_{i,j}+\\phi_{i-1,j}}{h^2}+\\frac{\\phi_{i,j+1}-2 \\phi_{i,j}+\\phi_{i,j-1}}{k^2}=\\rho_{i,j} \\quad (1)$$\n",
        "\n",
        "Where $$\\dfrac{\\phi_{i+1,j}-2\\phi_{i,j}+\\phi_{i-1,j}}{h^2}$$ and $$\\dfrac{\\phi_{i,j+1}-2 \\phi_{i,j}+\\phi_{i,j-1}}{k^2}$$ are the numerical approximations for $\\phi_{xx}$ and $\\phi_{yy}$ respectively.\n",
        "\n",
        "We rearrange the equation $(1)$ and we get the value of $\\phi$ at node $(i,j)$ as follows:\n",
        "\n",
        "$$\\phi_{i,j}=\\frac{(\\phi_{i+1,j}+\\phi_{i-1,j})k^2+(\\phi_{i,j+1}+\\phi_{i,j-1})h^2-\\rho_{i,j}h^2k^2}{2(h^2+k^2)}$$"
      ]
    },
    {
      "cell_type": "markdown",
      "metadata": {
        "id": "_dfRkz2QeGx5"
      },
      "source": [
        "For Poisson's problem, we will be working with the following value intervals and boundary conditions:\n",
        "\n",
        "For the **space of study**, we have:\n",
        "\n",
        "-   $x_{\\rm min} = 0.0$\n",
        "\n",
        "-   $x_{\\rm max} = 1.0$\n",
        "\n",
        "-   $y_{\\rm min} = 0.0$\n",
        "\n",
        "-   $y_{\\rm max} = 1.5$\n",
        "\n",
        "For **the boundary conditions**, we have:\n",
        "\n",
        "-   The boundary conditions for $\\phi$ at the $x_{\\rm min}$ boundary are\n",
        "    **Dirchlet**. Specifically, $\\phi(0, y)= -0.1$, for all $y$ values.\n",
        "\n",
        "    Numericaly speaking: $\\phi_{0,j} = -0.1$\n",
        "\n",
        "-   The boundary conditions for $\\phi$ at the $x_{\\rm max}$ boundary are\n",
        "    **Neumann**. Specifically, $\\dfrac{d\\phi(1.0, y)}{dx} = 0.1$.\n",
        "\n",
        "Following the numerical approximation, we have: \n",
        "$$\\dfrac{d\\phi(1.0, y)}{dx} = 0.1 \\approx\t\\dfrac{\\phi_{n-1, j} - \\phi_{n-2, j}}{h} $$\n",
        "Which leaves us with:\n",
        "$$\\phi_{n-1, j} = \\phi_{n-2, j} +0.1h $$\n",
        "\n",
        "-   The boundary conditions for $\\phi$ on the $y_{\\rm max}$ and\n",
        "    $y_{\\rm min}$ boundaries are periodic. Specifically,\n",
        "    $\\phi(x,0) = \\phi(x,1.5)$, we give it equals to 0.\n",
        "\n",
        "    Numericaly speaking: $\\phi_{i,0} = \\phi_{i,m-1} = 0$\n",
        "\n",
        "**Charge Distribution**\n",
        "\n",
        "For this problem, we will assume that the charge for each is at exactly\n",
        "one location. If it is exactly in between location, round UP to the nearest cell. \n",
        "The particular cell it lies in will depend on the grid's resolution.\n",
        "\n",
        "Since the CHARGE DENSITY is needed for the density vector, we need to\n",
        "divide the actual charge by the area of the node.\n",
        "\n",
        "$$\\rho = \\frac{Q}{hk}$$\n",
        "\n",
        "where $h$ and $k$ are the dimensions of the cells.\n",
        "\n",
        "The initial charge distribution is:\n",
        "\n",
        "-   There is a charge of $1.0$ at $(0.3,0.4)$. Which means: $$\\rho(0.3,0.4) = \\dfrac{1}{hk}$$\n",
        "\n",
        "-   There is a charge of $-0.5$ at $(0.7,1.2)$. Which means: $$\\rho(0.7,1.2) = \\dfrac{-0.5}{hk}$$\n",
        "\n",
        "And **it's zero elsewhere**.\n"
      ]
    },
    {
      "cell_type": "markdown",
      "metadata": {
        "id": "Ee3fdFyVeYlM"
      },
      "source": [
        "## **Grid Geometry**\n",
        "\n",
        "\n",
        "The system solution should be made using a center difference finite\n",
        "difference Poisson solver with a resolution of $n \\times m$ elements\n",
        "corresponding to a physical size of $h \\times k$.\n",
        "\n",
        "With this resolution, the cell sizes will be $$\\begin{aligned}\n",
        "h = \\frac{x_{max} - x_{min}}{n} = 1.0 / n \\\\\n",
        "k = \\frac{y_{max} - y_{min}}{m} = 1.5 / m\\end{aligned}$$\n",
        "\n",
        "The grid has a regular shape, but $h$ and $k$ are not necessarily equal.\n",
        "\n",
        "\n",
        "At this point, its important to decide what nodes actually have unknown\n",
        "values.\n",
        "\n",
        "-   Clearly the left boundary is know because of the initial conditions.\n",
        "\n",
        "-   The top and bottom boundaries are identical, so only one needs to be\n",
        "    calculated.\n",
        "\n",
        "-   The normal derivative at the right boundary is specified, but the\n",
        "    value is not - thus the value along the right boundary must be\n",
        "    calculated as well."
      ]
    },
    {
      "cell_type": "code",
      "metadata": {
        "id": "LoJlIxX-d1l5"
      },
      "source": [
        ""
      ],
      "execution_count": null,
      "outputs": []
    },
    {
      "cell_type": "markdown",
      "metadata": {
        "id": "_ONLPlTDeiXJ"
      },
      "source": [
        "## **A Critical Hint**\n",
        "\n",
        "There are two grids\n",
        "\n",
        "-   a physical grid with cells that mimics the geometry and\n",
        "\n",
        "-   a computational matrix that is used for the linear solve $$Ax = b$$\n",
        "\n",
        "***Note:*** A is NOT a symmetric matrix. Most of the elements of A are zero.\n",
        "\n",
        "*EVERY NODE IN THE PHYSICAL GRID IS DIRECTLY MAPPED TO ONE LINE IN THE\n",
        "COMPUTATONAL MATRIX.*\n",
        "\n",
        "## **Numbering the Nodes**\n",
        "\n",
        "We will number the nodes with values of $i$ and $j$. The lower left\n",
        "corner will have $i=0$ and $j=0$.  The top right corner will have $i= n-1$, $j = m-1$.  We will be using zero indexed array notations for consistency.\n",
        "\n",
        "To make the notation easier, consider $u_{\\lambda} = \n",
        "\\phi_{i,j}$ where $\\lambda = i + j \\times n$. There are $n$\n",
        "different columns and $m$ different rows, so there are $n \\times m$\n",
        "different coupled equations.\n",
        "\n",
        "Using this notation, it is clear that:\n",
        "\n",
        "- $\\lambda = 0$  when i =0, j = 0. (the bottom left corner)\n",
        "- $\\lambda = n-1$  when i = n-1, j = 0 (the bottom right corner)\n",
        "- $\\lambda = (m-1) \\times n$ when i = 0, j = m-1 (the top left corner)\n",
        "- $\\lambda = (m-1) \\times n + n-1$ when i = n-1, j=m-1 (the top right corner)\n"
      ]
    },
    {
      "cell_type": "markdown",
      "metadata": {
        "id": "Mcst-ut9e0ha"
      },
      "source": [
        "## **Creating the Matrix**\n",
        "\n",
        "- **Interior points:**\n",
        "  \n",
        "  - there will be 5 non-zero entries in each row that corresponds to an interior point.\n",
        "\n",
        "  - the $\\rho$ vector will correspond to the local density in the target cell.\n",
        "\n",
        "- **Edge points:**\n",
        "  \n",
        "  - there will be 4 non-zero entries in each row that corresponds to an interior point.\n",
        "\n",
        "  - with reflective BC, there will be 5 non-zero entries as in interior points.\n",
        "  \n",
        "  - the $\\rho$ vector will correspond to the local density in the target cell as modified by corner points.\n",
        "\n",
        "- **Corner points:**\n",
        "\n",
        "  - corners must be considered as special cases.\n",
        "\n",
        "  - there will be 3 non-zero entries in each row that corresponds to an interior point.\n",
        "\n",
        "  - the $\\rho$ vector will correspond to the local density in the target cell as modified by the two boundary points."
      ]
    },
    {
      "cell_type": "markdown",
      "metadata": {
        "id": "zhvaeY3mfD51"
      },
      "source": [
        "## **Interior Regions of the Solution**\n",
        "\n",
        "The interior points are those bounded by $i = [1, n-2]$ and $j = [1, m-2]$\n",
        "\n",
        "Away from the boundary conditions, the equations are straight-forward.\n",
        "We simply write the equations in terms of the surrounding points.\n",
        "\n",
        "This general form\n",
        "$$\\frac{\\phi_{i+1,j} - 2 \\phi_{i,j} + \\phi_{i-1,j}}{h^2} + \n",
        "\\frac{\\phi_{i,j+1} - 2 \\phi_{i,j} + \\phi_{i,j-1}}{k^2} =\n",
        "\\rho_{i,j}$$\n",
        "\n",
        "becomes $$\\begin{aligned}\n",
        "u_{\\lambda -1} - \n",
        "[2(\\frac{1}{h^2} + \\frac{1}{k^2})] u_{\\lambda} \n",
        "+ [\\frac{1}{h^2}] u_{\\lambda+1} \\\\ \\nonumber\n",
        "+ [\\frac{1}{k^2}] u_{\\lambda+n} + [\\frac{1}{k^2}] u_{\\lambda-n} = \\rho_{\\lambda} \\end{aligned}$$\n",
        "\n"
      ]
    },
    {
      "cell_type": "markdown",
      "metadata": {
        "id": "Hn5W1OvpfU-W"
      },
      "source": [
        "## **Assigning Elements to the Matrix**\n",
        "\n",
        "\n",
        "This equation: $$\\begin{aligned}\n",
        "u_{\\lambda -1} - \n",
        "[2(\\frac{1}{h^2} + \\frac{1}{k^2})] u_{\\lambda} \n",
        "+ [\\frac{1}{h^2}] u_{\\lambda+1} \\\\ \\nonumber\n",
        "+ [\\frac{1}{k^2}] u_{\\lambda+n} + [\\frac{1}{k^2}] u_{\\lambda-n} = \\rho_{\\lambda} \\end{aligned}$$\n",
        "\n",
        "Tells you the values and the locations for the non-zero elements. For\n",
        "row $\\lambda$, there are 5 non-zero elements\n",
        "\n",
        "-   $A_{\\lambda, \\lambda - n} = 1/k^2$\n",
        "\n",
        "-   $A_{\\lambda, \\lambda - 1} = 1/h^2$\n",
        "\n",
        "-   $A_{\\lambda, \\lambda} = -2 ( 1/h^2 + 1/k^2$)\n",
        "\n",
        "-   $A_{\\lambda, \\lambda + 1} = 1/h^2$\n",
        "\n",
        "-   $A_{\\lambda, \\lambda + n} = 1/k^2$\n",
        "\n",
        "**Similar assignments are done for the edges and for the corners.**\n",
        "\n",
        "\n"
      ]
    },
    {
      "cell_type": "markdown",
      "metadata": {
        "id": "DR63pFHIfM5U"
      },
      "source": [
        "## **The Left Edge - Dirchlet BC**\n",
        "\n",
        "The left edge is all defined by all the values of $i=0$ with $j= [0, m-1]$.  \n",
        "For the left edge, we have to implement Dirchlet BC. Since\n",
        "$\\phi(x_{\\rm min},y) = -0.1$, we need to modify the general form of our\n",
        "equation to accommodate this condition for the column on the left side\n",
        "of the domain.\n",
        "\n",
        "\n",
        "\n",
        "We have to change the general form\n",
        "$$\\frac{\\phi_{i+1,j} - 2 \\phi_{i,j} + \\phi_{i-1,j}}{h^2} + \n",
        "\\frac{\\phi_{i,j+1} - 2 \\phi_{i,j} + \\phi_{i,j-1}}{k^2} =\n",
        "\\rho_{i,j}$$\n",
        "\n",
        "to something which fits the specific BC for this problem.\n",
        "\n",
        "\n",
        "This general form\n",
        "$$\\frac{\\phi_{i+1,j} - 2 \\phi_{i,j} + \\phi_{i-1,j}}{h^2} + \n",
        "\\frac{\\phi_{i,j+1} - 2 \\phi_{i,j} + \\phi_{i,j-1}}{k^2} =\n",
        "\\rho_{i,j}$$\n",
        "\n",
        "becomes $$\\begin{aligned}\n",
        "\\phi_{\\rm left} - \n",
        "[2(\\frac{1}{h^2} + \\frac{1}{k^2})] u_{\\lambda} \n",
        "+ [\\frac{1}{h^2}] u_{\\lambda+1} \\\\ \\nonumber\n",
        "+ [\\frac{1}{k^2}] u_{\\lambda+n} + [\\frac{1}{k^2}] u_{\\lambda-n} = \\rho_{\\lambda} \\end{aligned}$$\n",
        "\n",
        "where $\\phi_{\\rm left}$ is the Dirchlet condition. We can rearranging\n",
        "into $$\\begin{aligned}\n",
        " - [2(\\frac{1}{h^2} + \\frac{1}{k^2})] u_{\\lambda} \n",
        "+ [\\frac{1}{h^2}] u_{\\lambda+1} \\\\ \\nonumber\n",
        "+ [\\frac{1}{k^2}] u_{\\lambda+n} + [\\frac{1}{k^2}] u_{\\lambda-n} = \\rho_{\\lambda} - [\\frac{1}{h^2}] \\phi_{\\rm left}\\end{aligned}$$\n",
        "\n",
        "We have changed the $\\rho$ vector to adapt to the BC. There will be four\n",
        "entries for this row of the $A$ matrix instead of five for the central\n",
        "regions.\n"
      ]
    },
    {
      "cell_type": "markdown",
      "metadata": {
        "id": "tKo41nG4fyxB"
      },
      "source": [
        "## **The Neumann BC - the right side**\n",
        "\n",
        "The right edge is all defined by all the values of $i=n-1$ with $j= [0, m-1]$.\n",
        "\n",
        "For the right edge, we have to implement Neumann BC. Since\n",
        "$d\\phi(x_{\\rm max},y)/dx = 0.1$, we need to modify the general form of\n",
        "our equation to accommodate this condition for the column on the right\n",
        "side of the domain.\n",
        "\n",
        "Again, we have to change the general form\n",
        "$$\\frac{\\phi_{i+1,j} - 2 \\phi_{i,j} + \\phi_{i-1,j}}{h^2} + \n",
        "\\frac{\\phi_{i,j+1} - 2 \\phi_{i,j} + \\phi_{i,j-1}}{k^2} =\n",
        "\\rho_{i,j}$$\n",
        "\n",
        "to something which fits the specific BC for this problem.\n",
        "\n",
        "## **Neumann BC**\n",
        "\n",
        "\n",
        "To understand this problem, consider the one-dimensional finite\n",
        "difference problem- $$\\frac{\\phi_{i+1} - 2 \\phi_{i} + \\phi_{i-1}}{h^2} =\n",
        "\\rho_{i}$$\n",
        "\n",
        "We have represented the second derivative as a central difference of two\n",
        "first order directives. In other words,\n",
        "$$\\frac{d^2 \\phi}{dx^2} \\approx \\frac{\n",
        "(d\\phi / dx)_{i+1} - (d\\phi / dx)_{i-1}}{h}$$\n",
        "\n",
        "where we have represented $$\\begin{aligned}\n",
        "(\\frac{d \\phi}{dx})_{i+1} = \\frac{\\phi_{i+1} - \\phi_{i}}{h} \\\\ \\nonumber\n",
        "(\\frac{d \\phi}{dx})_{i-1} = \\frac{\\phi_{i} - \\phi_{i-1}}{h} \\nonumber\\end{aligned}$$\n",
        "\n",
        "\n",
        "\n",
        "\n",
        "\n",
        "\n",
        "\n",
        "\n",
        "Using our one-dimensional case:\n",
        "\n",
        "$$\\frac{\\phi_{i+1} - 2 \\phi_{i} + \\phi_{i-1}}{h^2} = \n",
        "\\rho_{i} $$ \n",
        "Since we already know the value of the normal\n",
        "derivative on the boundary, we can approximate this with a center\n",
        "difference formula:\n",
        "$$\\left( \\frac{d \\phi}{dx} \\right)_{\\rm right} \\approx \\frac{ \\phi_{i+1} - \\phi_{i-1}}{2h}$$\n",
        "\n",
        "by rearranging this, we obtain\n",
        "$$\\phi_{i+1} = + 2 h \\left( \\frac{d\\phi}{dx} \\right)_{\\rm right} + \\phi_{i-1}$$\n",
        "\n",
        "substituting this into the equation above, we obtain $$\\frac{\n",
        " 2 h \\left( \\frac{d\\phi}{dx} \\right)_{\\rm right} + \\phi_{i-1}\n",
        " - 2 \\phi_{i} + \\phi_{i-1}}{h^2} = \n",
        "\\rho_{i}$$\n",
        "\n",
        "$$2 \\left( \\frac{\n",
        "\\phi_{i-1}\n",
        " -  \\phi_{i}}{h^2} \\right) =\n",
        "\\rho_{i} -  \\frac{2}{h} \\left( \\frac{d\\phi}{dx} \\right)_{\\rm right}$$\n",
        "\n",
        "\n",
        "##**Neumann BC for our Problem**\n",
        "\n",
        "\n",
        "Applying these ideas to our problem, we start with $$\\begin{aligned}\n",
        "u_{\\lambda -1} - \n",
        "[2(\\frac{1}{h^2} + \\frac{1}{k^2})] u_{\\lambda} \n",
        "+ [\\frac{1}{h^2}] u_{\\lambda+1} \\\\ \\nonumber\n",
        "+ [\\frac{1}{k^2}] u_{\\lambda+n} + [\\frac{1}{k^2}] u_{\\lambda-n} = \\rho_{\\lambda} \\end{aligned}$$\n",
        "\n",
        "we use the result\n",
        "$$u_{\\lambda+1} = + 2 h \\left( \\frac{du}{dx} \\right)_{\\rm right} + u_{\\lambda-1}$$\n",
        "\n",
        "$$\\begin{aligned}\n",
        "u_{\\lambda -1} - \n",
        "[2(\\frac{1}{h^2} + \\frac{1}{k^2})] u_{\\lambda} \\\\ \\nonumber\n",
        "+ [\\frac{1}{h^2}] \n",
        "\\left( 2 h \\left( \\frac{du}{dx} \\right)_{\\rm right} + u_{\\lambda-1} \\right)\n",
        "\\\\ \\nonumber\n",
        "+ [\\frac{1}{k^2}] u_{\\lambda+n} + [\\frac{1}{k^2}] \n",
        "u_{\\lambda-n} \n",
        "= \\rho_{\\lambda} \\end{aligned}$$\n",
        "\n",
        "with the final result of $$\\begin{aligned}\n",
        "u_{\\lambda -1} - \n",
        "[2(\\frac{1}{h^2} + \\frac{1}{k^2})] u_{\\lambda} \n",
        "\\\\ \\nonumber\n",
        "+ [\\frac{1}{k^2}] u_{\\lambda+n} + [\\frac{1}{k^2}] \n",
        "u_{\\lambda-n} \n",
        "= \\rho_{\\lambda} \n",
        "-\\left( \\frac{2}{h} \\left( \\frac{du}{dx} \\right)_{\\rm right} \\right)\\end{aligned}$$\n",
        "\n"
      ]
    },
    {
      "cell_type": "markdown",
      "metadata": {
        "id": "sn_DpzohgFYx"
      },
      "source": [
        "## **Periodic BC's**\n",
        "\n",
        "\n",
        "At the bottom boundary, the value must be equal to the top boundary.\n",
        "This \"wrap around\" is known as a periodic boundary condition.\n",
        "\n",
        "We implement a period boundary condition by using the finite different\n",
        "between the top and bottom boundaries as though they were connected. If\n",
        "you were to cut this grid out and paste it together so the top and\n",
        "bottom boundaries joined, the finite difference scheme would be correct.\n",
        "\n",
        "\n",
        "For the bottom and top rows of our solution, we must implement periodic\n",
        "boundary conditions. This means that\n",
        "$u(x,y_{\\rm min}) = u(x,y_{\\rm max})$.\n",
        "\n",
        "We will consider the top boundary first.\n",
        "\n",
        "\n",
        "Notice that the top boundary we need to consider is actually just below\n",
        "the boundary upper line of the grid.\n"
      ]
    },
    {
      "cell_type": "markdown",
      "metadata": {
        "id": "ft0dx1eqgQZq"
      },
      "source": [
        "## **The Top Boundary**\n",
        "\n",
        "Starting with the general form- $$\\begin{aligned}\n",
        "u_{\\lambda -1} - \n",
        "[2(\\frac{1}{h^2} + \\frac{1}{k^2})] u_{\\lambda} \n",
        "+ [\\frac{1}{h^2}] u_{\\lambda+1} \\\\ \\nonumber\n",
        "+ [\\frac{1}{k^2}] u_{\\lambda+n} + [\\frac{1}{k^2}] u_{\\lambda-n} = \\rho_{\\lambda} \\end{aligned}$$\n",
        "\n",
        "we obtain $$\\begin{aligned}\n",
        "u_{\\lambda -1} - \n",
        "[2(\\frac{1}{h^2} + \\frac{1}{k^2})] u_{\\lambda} \n",
        "+ [\\frac{1}{h^2}] u_{\\lambda+1} \\\\ \\nonumber\n",
        "+ [\\frac{1}{k^2}] u_{\\lambda-n \\times (m-1)} + \n",
        "[\\frac{1}{k^2}] u_{\\lambda-n}\n",
        " = \\rho_{\\lambda} \\end{aligned}$$\n",
        "\n",
        "where $m$ is the maximum row number.\n",
        "\n"
      ]
    },
    {
      "cell_type": "markdown",
      "metadata": {
        "id": "Nml0o7K5gW6v"
      },
      "source": [
        "## **The bottom boundary**\n",
        "\n",
        "At the bottom boundary, we again start with the general form-\n",
        "$$\\begin{aligned}\n",
        "u_{\\lambda -1} - \n",
        "[2(\\frac{1}{h^2} + \\frac{1}{k^2})] u_{\\lambda} \n",
        "+ [\\frac{1}{h^2}] u_{\\lambda+1} \\\\ \\nonumber\n",
        "+ [\\frac{1}{k^2}] u_{\\lambda+n} + [\\frac{1}{k^2}] u_{\\lambda-n} = \\rho_{\\lambda} \\end{aligned}$$\n",
        "\n",
        "we obtain $$\\begin{aligned}\n",
        "u_{\\lambda -1} - \n",
        "[2(\\frac{1}{h^2} + \\frac{1}{k^2})] u_{\\lambda} \n",
        "+ [\\frac{1}{h^2}] u_{\\lambda+1} \\\\ \\nonumber\n",
        "+ [\\frac{1}{k^2}] u_{\\lambda+n} + [\\frac{1}{k^2}] \n",
        "u_{\\lambda+ n \\times (m-1)}\n",
        " = \\rho_{\\lambda} \\end{aligned}$$\n",
        "\n",
        "where $m$ is the maximum row number.\n",
        "\n"
      ]
    },
    {
      "cell_type": "markdown",
      "metadata": {
        "id": "fn74SACBgbr2"
      },
      "source": [
        "## **Corners**\n",
        "\n",
        "The four corners of the computational domain are special cases. They are\n",
        "combinations of the different boundary conditions already solved for."
      ]
    },
    {
      "cell_type": "markdown",
      "metadata": {
        "id": "ydaZnV1RgvwN"
      },
      "source": [
        "## **Putting All This Together**\n",
        "\n",
        "The basic steps for solving this problem are:\n",
        "\n",
        "-   calculate the coefficients for the $A$ matrix for the interior\n",
        "    points\n",
        "\n",
        "-   calculate the coefficients for the $A$ matrix at the boundary points\n",
        "    and corners - be sure to add the corrections to the density matrix\n",
        "    from the BC's\n",
        "\n",
        "-   map the charges to the density matrix\n",
        "\n",
        "-   solve the problem using a sparse linear solver, keeping track of the\n",
        "    locations of the coefficients\n",
        "\n",
        "-   plot the solution on a grid"
      ]
    },
    {
      "cell_type": "markdown",
      "metadata": {
        "id": "Fz5z-_CgZHN1"
      },
      "source": [
        "# **Let's Run Some Code !**"
      ]
    },
    {
      "cell_type": "markdown",
      "metadata": {
        "id": "TI3y3q-9ipZM"
      },
      "source": [
        "## **Sparse Matrix Representations**\n",
        "\n",
        "To fit this all into memory, we need to use a Sparse matrix representation.\n",
        "\n",
        "### For more info, read this:\n",
        "[https://docs.scipy.org/doc/scipy/reference/sparse.html](https://docs.scipy.org/doc/scipy/reference/sparse.html)\n",
        "\n",
        "The idea of a sparse matrix is to store only the non-zero elements."
      ]
    },
    {
      "cell_type": "code",
      "metadata": {
        "id": "yJUk6fZsgbTh"
      },
      "source": [
        "import numpy as np\n",
        "import scipy as sci\n",
        "from scipy.sparse import lil_matrix\n",
        "from scipy.sparse.linalg import spsolve\n",
        "from pylab import *\n",
        "import matplotlib.pyplot as plt\n",
        "from math import ceil"
      ],
      "execution_count": null,
      "outputs": []
    },
    {
      "cell_type": "code",
      "metadata": {
        "id": "2FGO5Hd6gihw"
      },
      "source": [
        "xmax = 1.0\n",
        "xmin = 0.0\n",
        "n = 150\n",
        "h = (xmax - xmin) / float(n)\n",
        "\n",
        "ymax = 1.5\n",
        "ymin = 0.0\n",
        "m = 150\n",
        "k  = (ymax - ymin) / float(m)\n",
        "\n",
        "lmax = n*m\n",
        "\n",
        "def calcLambda(i, j, n, m):\n",
        "  return i + j * n\n",
        "\n",
        "uleft = -0.1\n",
        "dudx = 0.1\n",
        "\n",
        "# Define the sparse matrix and the second member\n",
        "AA = lil_matrix((lmax, lmax))\n",
        "rho = np.zeros((lmax, 1))"
      ],
      "execution_count": null,
      "outputs": []
    },
    {
      "cell_type": "code",
      "metadata": {
        "id": "K6k2740uhJa2"
      },
      "source": [
        "#### ---- Interior values ---- ####\n",
        "\n",
        "# Loop through the rows and columns of the physical grid\n",
        "for i in range(1,n-1):\n",
        "  for j in range(1, m-1):  \n",
        "    ll = calcLambda(i, j, n, m)\n",
        "\n",
        "    AA[ll,ll] = -2 * (1/h**2 + 1/k**2)\n",
        "    AA[ll, ll - 1] = 1/h**2\n",
        "    AA[ll, ll + 1] = 1/h**2\n",
        "\n",
        "    AA[ll, ll + n] = 1/k**2\n",
        "    AA[ll, ll - n] = 1/k**2"
      ],
      "execution_count": null,
      "outputs": []
    },
    {
      "cell_type": "code",
      "metadata": {
        "id": "StzkReeGZ9ll"
      },
      "source": [
        "#### ---- Bottom edge ---- ####\n",
        "j = 0\n",
        "for i in range( 1, n-1):\n",
        "  ll = calcLambda(i, j, n, m)\n",
        "  AA[ll,ll] = -2 * (1/h**2 + 1/k**2)\n",
        "  AA[ll, ll-1] = 1/h**2\n",
        "  AA[ll, ll+1] = 1/h**2\n",
        "\n",
        "  AA[ll, ll+n] = 1/k**2\n",
        "  AA[ll, ll+n*(m - 1)] = 1/k**2"
      ],
      "execution_count": null,
      "outputs": []
    },
    {
      "cell_type": "code",
      "metadata": {
        "id": "O8xT2UrvZ9R1"
      },
      "source": [
        "#### ---- Top edge ---- ####\n",
        "j = m - 1\n",
        "for i in range( 1, n-1):\n",
        "  ll = calcLambda(i, j, n, m)\n",
        "  AA[ll,ll] = -2 * (1/h**2 + 1/k**2)\n",
        "  AA[ll, ll-1] = 1/h**2\n",
        "  AA[ll, ll+1] = 1/h**2\n",
        "\n",
        "  AA[ll, ll-n] = 1/k**2\n",
        "  AA[ll, ll-n*(m - 1)] = 1/k**2"
      ],
      "execution_count": null,
      "outputs": []
    },
    {
      "cell_type": "code",
      "metadata": {
        "id": "5lm1z4zVZ8ar"
      },
      "source": [
        "#### ---- Left edge ---- ####\n",
        "i = 0 \n",
        "for j in range(1, m-1):\n",
        "  ll = calcLambda(i, j, n, m)\n",
        "\n",
        "  AA[ll,ll] = -2 * (1/h**2 + 1/k**2)\n",
        "  AA[ll, ll + 1] = 1/h**2\n",
        "\n",
        "  AA[ll, ll + n] = 1/k**2\n",
        "  AA[ll, ll - n] = 1/k**2\n",
        "\n",
        "  rho[ll][0] = -1/h**2*uleft"
      ],
      "execution_count": null,
      "outputs": []
    },
    {
      "cell_type": "code",
      "metadata": {
        "id": "vT9V7DvaaSd5"
      },
      "source": [
        "#### ---- Right edge ---- ####\n",
        "i = n - 1\n",
        "for j in range(1, m-1):\n",
        "  ll = calcLambda(i, j, n, m)\n",
        "\n",
        "  AA[ll,ll] = -2 * (1/h**2 + 1/k**2)\n",
        "  AA[ll, ll - 1] = 1/h**2\n",
        "\n",
        "  AA[ll, ll + n] = 1/k**2\n",
        "  AA[ll, ll - n] = 1/k**2\n",
        "\n",
        "  rho[ll][0] = -2*h*dudx"
      ],
      "execution_count": null,
      "outputs": []
    },
    {
      "cell_type": "code",
      "metadata": {
        "id": "QUIfo8hcaSKn"
      },
      "source": [
        "#### ---- Corners ---- ####\n",
        "## --- Low-Left Corner --- ##\n",
        "i = 0\n",
        "j = 0\n",
        "ll = calcLambda(i, j, n, m)\n",
        "\n",
        "AA[ll,ll] = -2 * (1/h**2 + 1/k**2)\n",
        "AA[ll, ll + 1] = 1/h**2\n",
        "AA[ll, ll + n] = 1/k**2\n",
        "AA[ll, ll+n*(m - 1)] = 1/k**2\n",
        "rho[ll][0] = -1/h**2*uleft"
      ],
      "execution_count": null,
      "outputs": []
    },
    {
      "cell_type": "code",
      "metadata": {
        "id": "fI-aVe0QaR6c"
      },
      "source": [
        "## --- Low-Right Corner --- ##\n",
        "i = n - 1\n",
        "j = 0\n",
        "ll = calcLambda(i, j, n, m)\n",
        "\n",
        "AA[ll,ll] = -2 * (1/h**2 + 1/k**2)\n",
        "AA[ll, ll - 1] = 1/h**2\n",
        "AA[ll, ll + n] = 1/k**2\n",
        "AA[ll, ll+n*(m - 1)] = 1/k**2\n",
        "rho[ll][0] += -2*h*dudx"
      ],
      "execution_count": null,
      "outputs": []
    },
    {
      "cell_type": "code",
      "metadata": {
        "id": "w_CsA2cHa6vW"
      },
      "source": [
        "## --- Up-Left Corner --- ##\n",
        "i = 0\n",
        "j = m - 1\n",
        "ll = calcLambda(i, j, n, m)\n",
        "\n",
        "AA[ll,ll] = -2 * (1/h**2 + 1/k**2)\n",
        "AA[ll, ll - n] = 1/k**2\n",
        "AA[ll, ll + 1] = 1/h**2\n",
        "AA[ll, ll-n*(m - 1)] = 1/k**2\n",
        "rho[ll][0] = -1/h**2*uleft"
      ],
      "execution_count": null,
      "outputs": []
    },
    {
      "cell_type": "code",
      "metadata": {
        "id": "WA9FvPJta6JT"
      },
      "source": [
        "## --- Up-Right Corner --- ##\n",
        "i = n - 1\n",
        "j = m - 1\n",
        "ll = calcLambda(i, j, n, m)\n",
        "\n",
        "AA[ll,ll] = -2 * (1/h**2 + 1/k**2)\n",
        "AA[ll, ll - 1] = 1/h**2\n",
        "AA[ll, ll - n] = 1/k**2\n",
        "AA[ll, ll-n*(m - 1)] = 1/k**2\n",
        "rho[ll][0] += -2*h*dudx\n",
        "\n",
        "AAcopy = AA.copy()\n",
        "AAcopy = AAcopy.tocsc()\n",
        "B = np.array(AAcopy.toarray())"
      ],
      "execution_count": null,
      "outputs": []
    },
    {
      "cell_type": "code",
      "metadata": {
        "id": "__iu01X5bgzi"
      },
      "source": [
        "#### --- Rho vector --- ####\n",
        "# Area 1: There is a charge (NOT CHARGE DENSITY) of 1.0 at (0.3,0.4)\n",
        "i_index1 = int(0.3/h)\n",
        "j_index1 = int(0.4/k)\n",
        "\n",
        "mat_index1 = calcLambda(i_index1, j_index1, n, m)\n",
        "rho[mat_index1][0] += 1.0/(h*k)\n",
        "\n",
        "# Area 2: There is a charge (NOT CHARGE DENSITY) of −0.5 at (0.7,1.2)\n",
        "i_index2 = int(0.7/h)\n",
        "j_index2 = int(1.2/k)\n",
        "\n",
        "mat_index2 = calcLambda(i_index2, j_index2, n, m)\n",
        "rho[mat_index2][0] += -0.5/(h*k) "
      ],
      "execution_count": null,
      "outputs": []
    },
    {
      "cell_type": "code",
      "metadata": {
        "id": "qV0O2qAIwchv",
        "colab": {
          "base_uri": "https://localhost:8080/",
          "height": 391
        },
        "outputId": "00c0895d-1405-4976-f366-0f7fe88a3c59"
      },
      "source": [
        "### Solve it!\n",
        "u = np.zeros((lmax, 1))\n",
        "u = spsolve(AAcopy, rho)  \n",
        "\n",
        "# Passing the results from a Column vector to a nxm Matrix\n",
        "U = np.zeros((n, m))\n",
        "for i in range(n):\n",
        "  for j in range(m):\n",
        "    index = calcLambda(i, j, n, m)\n",
        "    U[i][j] += u[index]\n",
        "\n",
        "# Generating the x and y coordinates\n",
        "x = np.linspace(xmin, xmax, n)\n",
        "y = np.linspace(ymin, ymax, m)\n",
        "\n",
        "figure(2)\n",
        "plt.figure(figsize=(10, 6))\n",
        "plt.contourf(x,y,U, 50)\n",
        "plt.show()"
      ],
      "execution_count": null,
      "outputs": [
        {
          "output_type": "display_data",
          "data": {
            "text/plain": [
              "<Figure size 432x288 with 0 Axes>"
            ]
          },
          "metadata": {
            "tags": []
          }
        },
        {
          "output_type": "display_data",
          "data": {
            "image/png": "[encoded data removed]",
            "text/plain": [
              "<Figure size 720x432 with 1 Axes>"
            ]
          },
          "metadata": {
            "tags": [],
            "needs_background": "light"
          }
        }
      ]
    },
    {
      "cell_type": "markdown",
      "metadata": {
        "id": "tmuBqnenbw7Q"
      },
      "source": [
        "# **B-e-a-utiful, isn't it !**"
      ]
    }
  ]
}